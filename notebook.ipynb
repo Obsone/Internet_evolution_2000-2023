{
 "cells": [
  {
   "cell_type": "markdown",
   "metadata": {},
   "source": [
    "# How the World Got Online: Internet Usage Evolution (2000-2023)\n",
    "\n",
    "**_The Rise of Internet Adoption: Trends Across Countries_**"
   ]
  },
  {
   "cell_type": "code",
   "execution_count": null,
   "metadata": {},
   "outputs": [],
   "source": [
    "import pandas as pd\n",
    "import numpy as np\n",
    "import seaborn as sns\n",
    "import matplotlib.pyplot as plt\n",
    "data = pd.read_csv('internet_usage.csv')\n",
    "data.head(10)"
   ]
  },
  {
   "cell_type": "markdown",
   "metadata": {},
   "source": [
    "## 📂 Initial Exploration\n",
    "- Have a gist of the dataset `df.head()`\n",
    "- check for missing values `df.isnull().sum()`\n",
    "- Get column names and data types `df.info()`"
   ]
  },
  {
   "cell_type": "code",
   "execution_count": null,
   "metadata": {},
   "outputs": [],
   "source": [
    "data.info()\n",
    "data.describe()"
   ]
  },
  {
   "cell_type": "markdown",
   "metadata": {},
   "source": [
    "## 🔍 Our objectives\n",
    "- Let's analyze the growth of internet usage globally\n",
    "- Let's find countries with the fastest and slowest internet adoptation\n",
    "\n",
    "`internet_usage.csv` is in a wide format with 217 row entries and 26 columns. "
   ]
  },
  {
   "cell_type": "markdown",
   "metadata": {},
   "source": [
    "### Data Cleaning\n",
    "There are values `\"..\"` that is likely a placeholders for missing data. This are treated as `strings` and prevent proper numerical analysis in `.describe()`.\n",
    "\n",
    "We will use `forward/backward` fill or `interpolation` method for the missing data since the dataset is a time-series or continuous data."
   ]
  },
  {
   "cell_type": "code",
   "execution_count": 2,
   "metadata": {},
   "outputs": [
    {
     "name": "stderr",
     "output_type": "stream",
     "text": [
      "C:\\Users\\USER\\AppData\\Local\\Temp\\ipykernel_17988\\1432522637.py:11: FutureWarning: DataFrame.fillna with 'method' is deprecated and will raise in a future version. Use obj.ffill() or obj.bfill() instead.\n",
      "  new_data[year_cols] = new_data[year_cols].fillna(method='ffill')\n",
      "C:\\Users\\USER\\AppData\\Local\\Temp\\ipykernel_17988\\1432522637.py:13: FutureWarning: DataFrame.fillna with 'method' is deprecated and will raise in a future version. Use obj.ffill() or obj.bfill() instead.\n",
      "  new_data[year_cols] = new_data[year_cols].fillna(method='bfill')\n"
     ]
    },
    {
     "data": {
      "text/plain": [
       "np.int64(0)"
      ]
     },
     "execution_count": 2,
     "metadata": {},
     "output_type": "execute_result"
    }
   ],
   "source": [
    "# Data Cleaning\n",
    "new_data = data.replace(\"..\", np.nan)\n",
    "missing_percentage = new_data.isnull().sum() #/ len(new_data) * 100\n",
    "# print(missing_percentage)\n",
    "\n",
    "original_data = new_data.copy() # copied data for before & after cleaning\n",
    "\n",
    "# Convert year columns (2000-2023) to numeric\n",
    "year_cols = new_data.columns[2:]  # Selects only year columns\n",
    "new_data[year_cols] = new_data[year_cols].apply(pd.to_numeric, errors='coerce')\n",
    "new_data[year_cols] = new_data[year_cols].fillna(method='ffill')\n",
    "new_data[year_cols] = new_data[year_cols].interpolate(method='linear', axis=1)\n",
    "new_data[year_cols] = new_data[year_cols].fillna(method='bfill')\n",
    "\n",
    "# # Convert country columns to string (optional, but keeps consistency)\n",
    "new_data[\"Country Name\"] = new_data[\"Country Name\"].astype(str)\n",
    "new_data[\"Country Code\"] = new_data[\"Country Code\"].astype(str)\n",
    "new_data.isna().sum().sum()  # Should return 0 if everything is filled\n"
   ]
  }
 ],
 "metadata": {
  "kernelspec": {
   "display_name": "venv",
   "language": "python",
   "name": "python3"
  },
  "language_info": {
   "codemirror_mode": {
    "name": "ipython",
    "version": 3
   },
   "file_extension": ".py",
   "mimetype": "text/x-python",
   "name": "python",
   "nbconvert_exporter": "python",
   "pygments_lexer": "ipython3",
   "version": "3.10.2"
  }
 },
 "nbformat": 4,
 "nbformat_minor": 2
}
