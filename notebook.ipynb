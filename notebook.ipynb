{
 "cells": [
  {
   "cell_type": "markdown",
   "metadata": {},
   "source": [
    "# How the World Got Online: Internet Usage Evolution (2000-2023)\n",
    "\n",
    "**_The Rise of Internet Adoption: Trends Across Countries_**"
   ]
  },
  {
   "cell_type": "code",
   "execution_count": 1,
   "metadata": {},
   "outputs": [
    {
     "data": {
      "text/html": [
       "<div>\n",
       "<style scoped>\n",
       "    .dataframe tbody tr th:only-of-type {\n",
       "        vertical-align: middle;\n",
       "    }\n",
       "\n",
       "    .dataframe tbody tr th {\n",
       "        vertical-align: top;\n",
       "    }\n",
       "\n",
       "    .dataframe thead th {\n",
       "        text-align: right;\n",
       "    }\n",
       "</style>\n",
       "<table border=\"1\" class=\"dataframe\">\n",
       "  <thead>\n",
       "    <tr style=\"text-align: right;\">\n",
       "      <th></th>\n",
       "      <th>Country Name</th>\n",
       "      <th>Country Code</th>\n",
       "      <th>2000</th>\n",
       "      <th>2001</th>\n",
       "      <th>2002</th>\n",
       "      <th>2003</th>\n",
       "      <th>2004</th>\n",
       "      <th>2005</th>\n",
       "      <th>2006</th>\n",
       "      <th>2007</th>\n",
       "      <th>...</th>\n",
       "      <th>2014</th>\n",
       "      <th>2015</th>\n",
       "      <th>2016</th>\n",
       "      <th>2017</th>\n",
       "      <th>2018</th>\n",
       "      <th>2019</th>\n",
       "      <th>2020</th>\n",
       "      <th>2021</th>\n",
       "      <th>2022</th>\n",
       "      <th>2023</th>\n",
       "    </tr>\n",
       "  </thead>\n",
       "  <tbody>\n",
       "    <tr>\n",
       "      <th>0</th>\n",
       "      <td>Afghanistan</td>\n",
       "      <td>AFG</td>\n",
       "      <td>..</td>\n",
       "      <td>0.00472257</td>\n",
       "      <td>0.0045614</td>\n",
       "      <td>0.0878913</td>\n",
       "      <td>0.105809</td>\n",
       "      <td>1.22415</td>\n",
       "      <td>2.10712</td>\n",
       "      <td>1.9</td>\n",
       "      <td>...</td>\n",
       "      <td>7</td>\n",
       "      <td>8.26</td>\n",
       "      <td>11</td>\n",
       "      <td>13.5</td>\n",
       "      <td>16.8</td>\n",
       "      <td>17.6</td>\n",
       "      <td>18.4</td>\n",
       "      <td>..</td>\n",
       "      <td>..</td>\n",
       "      <td>..</td>\n",
       "    </tr>\n",
       "    <tr>\n",
       "      <th>1</th>\n",
       "      <td>Albania</td>\n",
       "      <td>ALB</td>\n",
       "      <td>0.114097</td>\n",
       "      <td>0.325798</td>\n",
       "      <td>0.390081</td>\n",
       "      <td>0.9719</td>\n",
       "      <td>2.42039</td>\n",
       "      <td>6.04389</td>\n",
       "      <td>9.60999</td>\n",
       "      <td>15.0361</td>\n",
       "      <td>...</td>\n",
       "      <td>54.3</td>\n",
       "      <td>56.9</td>\n",
       "      <td>59.6</td>\n",
       "      <td>62.4</td>\n",
       "      <td>65.4</td>\n",
       "      <td>68.5504</td>\n",
       "      <td>72.2377</td>\n",
       "      <td>79.3237</td>\n",
       "      <td>82.6137</td>\n",
       "      <td>83.1356</td>\n",
       "    </tr>\n",
       "    <tr>\n",
       "      <th>2</th>\n",
       "      <td>Algeria</td>\n",
       "      <td>DZA</td>\n",
       "      <td>0.491706</td>\n",
       "      <td>0.646114</td>\n",
       "      <td>1.59164</td>\n",
       "      <td>2.19536</td>\n",
       "      <td>4.63448</td>\n",
       "      <td>5.84394</td>\n",
       "      <td>7.37598</td>\n",
       "      <td>9.45119</td>\n",
       "      <td>...</td>\n",
       "      <td>29.5</td>\n",
       "      <td>38.2</td>\n",
       "      <td>42.9455</td>\n",
       "      <td>47.6911</td>\n",
       "      <td>49.0385</td>\n",
       "      <td>58.9776</td>\n",
       "      <td>60.6534</td>\n",
       "      <td>66.2356</td>\n",
       "      <td>71.2432</td>\n",
       "      <td>..</td>\n",
       "    </tr>\n",
       "    <tr>\n",
       "      <th>3</th>\n",
       "      <td>American Samoa</td>\n",
       "      <td>ASM</td>\n",
       "      <td>..</td>\n",
       "      <td>..</td>\n",
       "      <td>..</td>\n",
       "      <td>..</td>\n",
       "      <td>..</td>\n",
       "      <td>..</td>\n",
       "      <td>..</td>\n",
       "      <td>..</td>\n",
       "      <td>...</td>\n",
       "      <td>..</td>\n",
       "      <td>..</td>\n",
       "      <td>..</td>\n",
       "      <td>..</td>\n",
       "      <td>..</td>\n",
       "      <td>..</td>\n",
       "      <td>..</td>\n",
       "      <td>..</td>\n",
       "      <td>..</td>\n",
       "      <td>..</td>\n",
       "    </tr>\n",
       "    <tr>\n",
       "      <th>4</th>\n",
       "      <td>Andorra</td>\n",
       "      <td>AND</td>\n",
       "      <td>10.5388</td>\n",
       "      <td>..</td>\n",
       "      <td>11.2605</td>\n",
       "      <td>13.5464</td>\n",
       "      <td>26.838</td>\n",
       "      <td>37.6058</td>\n",
       "      <td>48.9368</td>\n",
       "      <td>70.87</td>\n",
       "      <td>...</td>\n",
       "      <td>86.1</td>\n",
       "      <td>87.9</td>\n",
       "      <td>89.7</td>\n",
       "      <td>91.5675</td>\n",
       "      <td>..</td>\n",
       "      <td>90.7187</td>\n",
       "      <td>93.2056</td>\n",
       "      <td>93.8975</td>\n",
       "      <td>94.4855</td>\n",
       "      <td>..</td>\n",
       "    </tr>\n",
       "    <tr>\n",
       "      <th>5</th>\n",
       "      <td>Angola</td>\n",
       "      <td>AGO</td>\n",
       "      <td>0.105046</td>\n",
       "      <td>0.136014</td>\n",
       "      <td>0.270377</td>\n",
       "      <td>0.370682</td>\n",
       "      <td>0.464815</td>\n",
       "      <td>1.14337</td>\n",
       "      <td>1.5</td>\n",
       "      <td>1.7</td>\n",
       "      <td>...</td>\n",
       "      <td>21.3623</td>\n",
       "      <td>22</td>\n",
       "      <td>23.2</td>\n",
       "      <td>26</td>\n",
       "      <td>29</td>\n",
       "      <td>32.1294</td>\n",
       "      <td>36.6347</td>\n",
       "      <td>37.8067</td>\n",
       "      <td>39.2935</td>\n",
       "      <td>..</td>\n",
       "    </tr>\n",
       "    <tr>\n",
       "      <th>6</th>\n",
       "      <td>Antigua and Barbuda</td>\n",
       "      <td>ATG</td>\n",
       "      <td>6.48223</td>\n",
       "      <td>8.89929</td>\n",
       "      <td>12.5</td>\n",
       "      <td>17.2286</td>\n",
       "      <td>24.2665</td>\n",
       "      <td>27</td>\n",
       "      <td>30</td>\n",
       "      <td>34</td>\n",
       "      <td>...</td>\n",
       "      <td>67.78</td>\n",
       "      <td>70</td>\n",
       "      <td>73</td>\n",
       "      <td>76.2</td>\n",
       "      <td>79.6</td>\n",
       "      <td>83.2</td>\n",
       "      <td>86.8837</td>\n",
       "      <td>87.074</td>\n",
       "      <td>91.4123</td>\n",
       "      <td>..</td>\n",
       "    </tr>\n",
       "    <tr>\n",
       "      <th>7</th>\n",
       "      <td>Argentina</td>\n",
       "      <td>ARG</td>\n",
       "      <td>7.03868</td>\n",
       "      <td>9.78081</td>\n",
       "      <td>10.8821</td>\n",
       "      <td>11.9137</td>\n",
       "      <td>16.0367</td>\n",
       "      <td>17.7206</td>\n",
       "      <td>20.9272</td>\n",
       "      <td>25.9466</td>\n",
       "      <td>...</td>\n",
       "      <td>64.7</td>\n",
       "      <td>68.0431</td>\n",
       "      <td>70.969</td>\n",
       "      <td>74.2949</td>\n",
       "      <td>77.7</td>\n",
       "      <td>79.947</td>\n",
       "      <td>85.5144</td>\n",
       "      <td>87.1507</td>\n",
       "      <td>88.3754</td>\n",
       "      <td>89.229</td>\n",
       "    </tr>\n",
       "    <tr>\n",
       "      <th>8</th>\n",
       "      <td>Armenia</td>\n",
       "      <td>ARM</td>\n",
       "      <td>1.30047</td>\n",
       "      <td>1.63109</td>\n",
       "      <td>1.96041</td>\n",
       "      <td>4.57522</td>\n",
       "      <td>4.89901</td>\n",
       "      <td>5.25298</td>\n",
       "      <td>5.63179</td>\n",
       "      <td>6.02125</td>\n",
       "      <td>...</td>\n",
       "      <td>54.6228</td>\n",
       "      <td>59.1008</td>\n",
       "      <td>64.346</td>\n",
       "      <td>64.7449</td>\n",
       "      <td>68.2451</td>\n",
       "      <td>66.5439</td>\n",
       "      <td>76.5077</td>\n",
       "      <td>78.6123</td>\n",
       "      <td>77.0277</td>\n",
       "      <td>..</td>\n",
       "    </tr>\n",
       "    <tr>\n",
       "      <th>9</th>\n",
       "      <td>Aruba</td>\n",
       "      <td>ABW</td>\n",
       "      <td>15.4428</td>\n",
       "      <td>17.1</td>\n",
       "      <td>18.8</td>\n",
       "      <td>20.8</td>\n",
       "      <td>23</td>\n",
       "      <td>25.4</td>\n",
       "      <td>28</td>\n",
       "      <td>30.9</td>\n",
       "      <td>...</td>\n",
       "      <td>83.78</td>\n",
       "      <td>88.6612</td>\n",
       "      <td>93.5425</td>\n",
       "      <td>97.17</td>\n",
       "      <td>..</td>\n",
       "      <td>..</td>\n",
       "      <td>..</td>\n",
       "      <td>..</td>\n",
       "      <td>..</td>\n",
       "      <td>..</td>\n",
       "    </tr>\n",
       "  </tbody>\n",
       "</table>\n",
       "<p>10 rows × 26 columns</p>\n",
       "</div>"
      ],
      "text/plain": [
       "          Country Name Country Code      2000        2001       2002  \\\n",
       "0          Afghanistan          AFG        ..  0.00472257  0.0045614   \n",
       "1              Albania          ALB  0.114097    0.325798   0.390081   \n",
       "2              Algeria          DZA  0.491706    0.646114    1.59164   \n",
       "3       American Samoa          ASM        ..          ..         ..   \n",
       "4              Andorra          AND   10.5388          ..    11.2605   \n",
       "5               Angola          AGO  0.105046    0.136014   0.270377   \n",
       "6  Antigua and Barbuda          ATG   6.48223     8.89929       12.5   \n",
       "7            Argentina          ARG   7.03868     9.78081    10.8821   \n",
       "8              Armenia          ARM   1.30047     1.63109    1.96041   \n",
       "9                Aruba          ABW   15.4428        17.1       18.8   \n",
       "\n",
       "        2003      2004     2005     2006     2007  ...     2014     2015  \\\n",
       "0  0.0878913  0.105809  1.22415  2.10712      1.9  ...        7     8.26   \n",
       "1     0.9719   2.42039  6.04389  9.60999  15.0361  ...     54.3     56.9   \n",
       "2    2.19536   4.63448  5.84394  7.37598  9.45119  ...     29.5     38.2   \n",
       "3         ..        ..       ..       ..       ..  ...       ..       ..   \n",
       "4    13.5464    26.838  37.6058  48.9368    70.87  ...     86.1     87.9   \n",
       "5   0.370682  0.464815  1.14337      1.5      1.7  ...  21.3623       22   \n",
       "6    17.2286   24.2665       27       30       34  ...    67.78       70   \n",
       "7    11.9137   16.0367  17.7206  20.9272  25.9466  ...     64.7  68.0431   \n",
       "8    4.57522   4.89901  5.25298  5.63179  6.02125  ...  54.6228  59.1008   \n",
       "9       20.8        23     25.4       28     30.9  ...    83.78  88.6612   \n",
       "\n",
       "      2016     2017     2018     2019     2020     2021     2022     2023  \n",
       "0       11     13.5     16.8     17.6     18.4       ..       ..       ..  \n",
       "1     59.6     62.4     65.4  68.5504  72.2377  79.3237  82.6137  83.1356  \n",
       "2  42.9455  47.6911  49.0385  58.9776  60.6534  66.2356  71.2432       ..  \n",
       "3       ..       ..       ..       ..       ..       ..       ..       ..  \n",
       "4     89.7  91.5675       ..  90.7187  93.2056  93.8975  94.4855       ..  \n",
       "5     23.2       26       29  32.1294  36.6347  37.8067  39.2935       ..  \n",
       "6       73     76.2     79.6     83.2  86.8837   87.074  91.4123       ..  \n",
       "7   70.969  74.2949     77.7   79.947  85.5144  87.1507  88.3754   89.229  \n",
       "8   64.346  64.7449  68.2451  66.5439  76.5077  78.6123  77.0277       ..  \n",
       "9  93.5425    97.17       ..       ..       ..       ..       ..       ..  \n",
       "\n",
       "[10 rows x 26 columns]"
      ]
     },
     "execution_count": 1,
     "metadata": {},
     "output_type": "execute_result"
    }
   ],
   "source": [
    "import pandas as pd\n",
    "import numpy as np\n",
    "import seaborn as sns\n",
    "import matplotlib.pyplot as plt\n",
    "import plotly.graph_objects as go\n",
    "import plotly.express as px\n",
    "data = pd.read_csv('internet_usage.csv')\n",
    "data.head(10)"
   ]
  },
  {
   "cell_type": "markdown",
   "metadata": {},
   "source": [
    "## 📂 Initial Exploration\n",
    "- Have a gist of the dataset `df.head()`\n",
    "- check for missing values `df.isnull().sum()`\n",
    "- Get column names and data types `df.info()`"
   ]
  },
  {
   "cell_type": "code",
   "execution_count": 2,
   "metadata": {},
   "outputs": [
    {
     "name": "stdout",
     "output_type": "stream",
     "text": [
      "<class 'pandas.core.frame.DataFrame'>\n",
      "RangeIndex: 217 entries, 0 to 216\n",
      "Data columns (total 26 columns):\n",
      " #   Column        Non-Null Count  Dtype \n",
      "---  ------        --------------  ----- \n",
      " 0   Country Name  217 non-null    object\n",
      " 1   Country Code  217 non-null    object\n",
      " 2   2000          217 non-null    object\n",
      " 3   2001          217 non-null    object\n",
      " 4   2002          217 non-null    object\n",
      " 5   2003          217 non-null    object\n",
      " 6   2004          217 non-null    object\n",
      " 7   2005          217 non-null    object\n",
      " 8   2006          217 non-null    object\n",
      " 9   2007          217 non-null    object\n",
      " 10  2008          217 non-null    object\n",
      " 11  2009          217 non-null    object\n",
      " 12  2010          217 non-null    object\n",
      " 13  2011          217 non-null    object\n",
      " 14  2012          217 non-null    object\n",
      " 15  2013          217 non-null    object\n",
      " 16  2014          217 non-null    object\n",
      " 17  2015          217 non-null    object\n",
      " 18  2016          217 non-null    object\n",
      " 19  2017          217 non-null    object\n",
      " 20  2018          217 non-null    object\n",
      " 21  2019          217 non-null    object\n",
      " 22  2020          217 non-null    object\n",
      " 23  2021          217 non-null    object\n",
      " 24  2022          217 non-null    object\n",
      " 25  2023          217 non-null    object\n",
      "dtypes: object(26)\n",
      "memory usage: 44.2+ KB\n"
     ]
    },
    {
     "data": {
      "text/html": [
       "<div>\n",
       "<style scoped>\n",
       "    .dataframe tbody tr th:only-of-type {\n",
       "        vertical-align: middle;\n",
       "    }\n",
       "\n",
       "    .dataframe tbody tr th {\n",
       "        vertical-align: top;\n",
       "    }\n",
       "\n",
       "    .dataframe thead th {\n",
       "        text-align: right;\n",
       "    }\n",
       "</style>\n",
       "<table border=\"1\" class=\"dataframe\">\n",
       "  <thead>\n",
       "    <tr style=\"text-align: right;\">\n",
       "      <th></th>\n",
       "      <th>Country Name</th>\n",
       "      <th>Country Code</th>\n",
       "      <th>2000</th>\n",
       "      <th>2001</th>\n",
       "      <th>2002</th>\n",
       "      <th>2003</th>\n",
       "      <th>2004</th>\n",
       "      <th>2005</th>\n",
       "      <th>2006</th>\n",
       "      <th>2007</th>\n",
       "      <th>...</th>\n",
       "      <th>2014</th>\n",
       "      <th>2015</th>\n",
       "      <th>2016</th>\n",
       "      <th>2017</th>\n",
       "      <th>2018</th>\n",
       "      <th>2019</th>\n",
       "      <th>2020</th>\n",
       "      <th>2021</th>\n",
       "      <th>2022</th>\n",
       "      <th>2023</th>\n",
       "    </tr>\n",
       "  </thead>\n",
       "  <tbody>\n",
       "    <tr>\n",
       "      <th>count</th>\n",
       "      <td>217</td>\n",
       "      <td>217</td>\n",
       "      <td>217</td>\n",
       "      <td>217</td>\n",
       "      <td>217</td>\n",
       "      <td>217</td>\n",
       "      <td>217</td>\n",
       "      <td>217</td>\n",
       "      <td>217</td>\n",
       "      <td>217</td>\n",
       "      <td>...</td>\n",
       "      <td>217</td>\n",
       "      <td>217</td>\n",
       "      <td>217</td>\n",
       "      <td>217</td>\n",
       "      <td>217</td>\n",
       "      <td>217</td>\n",
       "      <td>217</td>\n",
       "      <td>217</td>\n",
       "      <td>217</td>\n",
       "      <td>217</td>\n",
       "    </tr>\n",
       "    <tr>\n",
       "      <th>unique</th>\n",
       "      <td>217</td>\n",
       "      <td>217</td>\n",
       "      <td>197</td>\n",
       "      <td>200</td>\n",
       "      <td>202</td>\n",
       "      <td>196</td>\n",
       "      <td>198</td>\n",
       "      <td>199</td>\n",
       "      <td>199</td>\n",
       "      <td>197</td>\n",
       "      <td>...</td>\n",
       "      <td>194</td>\n",
       "      <td>196</td>\n",
       "      <td>199</td>\n",
       "      <td>203</td>\n",
       "      <td>175</td>\n",
       "      <td>183</td>\n",
       "      <td>191</td>\n",
       "      <td>185</td>\n",
       "      <td>178</td>\n",
       "      <td>58</td>\n",
       "    </tr>\n",
       "    <tr>\n",
       "      <th>top</th>\n",
       "      <td>Afghanistan</td>\n",
       "      <td>AFG</td>\n",
       "      <td>..</td>\n",
       "      <td>..</td>\n",
       "      <td>..</td>\n",
       "      <td>..</td>\n",
       "      <td>..</td>\n",
       "      <td>..</td>\n",
       "      <td>..</td>\n",
       "      <td>..</td>\n",
       "      <td>...</td>\n",
       "      <td>..</td>\n",
       "      <td>..</td>\n",
       "      <td>..</td>\n",
       "      <td>..</td>\n",
       "      <td>..</td>\n",
       "      <td>..</td>\n",
       "      <td>..</td>\n",
       "      <td>..</td>\n",
       "      <td>..</td>\n",
       "      <td>..</td>\n",
       "    </tr>\n",
       "    <tr>\n",
       "      <th>freq</th>\n",
       "      <td>1</td>\n",
       "      <td>1</td>\n",
       "      <td>21</td>\n",
       "      <td>18</td>\n",
       "      <td>15</td>\n",
       "      <td>21</td>\n",
       "      <td>18</td>\n",
       "      <td>17</td>\n",
       "      <td>18</td>\n",
       "      <td>13</td>\n",
       "      <td>...</td>\n",
       "      <td>16</td>\n",
       "      <td>17</td>\n",
       "      <td>14</td>\n",
       "      <td>11</td>\n",
       "      <td>41</td>\n",
       "      <td>31</td>\n",
       "      <td>25</td>\n",
       "      <td>27</td>\n",
       "      <td>34</td>\n",
       "      <td>158</td>\n",
       "    </tr>\n",
       "  </tbody>\n",
       "</table>\n",
       "<p>4 rows × 26 columns</p>\n",
       "</div>"
      ],
      "text/plain": [
       "       Country Name Country Code 2000 2001 2002 2003 2004 2005 2006 2007  ...  \\\n",
       "count           217          217  217  217  217  217  217  217  217  217  ...   \n",
       "unique          217          217  197  200  202  196  198  199  199  197  ...   \n",
       "top     Afghanistan          AFG   ..   ..   ..   ..   ..   ..   ..   ..  ...   \n",
       "freq              1            1   21   18   15   21   18   17   18   13  ...   \n",
       "\n",
       "       2014 2015 2016 2017 2018 2019 2020 2021 2022 2023  \n",
       "count   217  217  217  217  217  217  217  217  217  217  \n",
       "unique  194  196  199  203  175  183  191  185  178   58  \n",
       "top      ..   ..   ..   ..   ..   ..   ..   ..   ..   ..  \n",
       "freq     16   17   14   11   41   31   25   27   34  158  \n",
       "\n",
       "[4 rows x 26 columns]"
      ]
     },
     "execution_count": 2,
     "metadata": {},
     "output_type": "execute_result"
    }
   ],
   "source": [
    "data.info()\n",
    "data.describe()"
   ]
  },
  {
   "cell_type": "markdown",
   "metadata": {},
   "source": [
    "## 🔍 Our objectives\n",
    "- Let's analyze the growth of internet usage globally\n",
    "- Let's find countries with the fastest and slowest internet adoptation\n",
    "\n",
    "`internet_usage.csv` is in a wide format with 217 row entries and 26 columns. "
   ]
  },
  {
   "cell_type": "markdown",
   "metadata": {},
   "source": [
    "### Data Cleaning\n",
    "There are values `\"..\"` that is likely a placeholders for missing data. This are treated as `strings` and prevent proper numerical analysis in `.describe()`.\n",
    "\n",
    "We will use `forward/backward` fill or `interpolation` method for the missing data since the dataset is a time-series or continuous data."
   ]
  },
  {
   "cell_type": "code",
   "execution_count": 3,
   "metadata": {},
   "outputs": [
    {
     "data": {
      "text/plain": [
       "np.int64(0)"
      ]
     },
     "execution_count": 3,
     "metadata": {},
     "output_type": "execute_result"
    }
   ],
   "source": [
    "# Data Cleaning\n",
    "new_data = data.replace(\"..\", np.nan)\n",
    "missing_percentage = new_data.isnull().sum() #/ len(new_data) * 100\n",
    "# print(missing_percentage)\n",
    "\n",
    "original_data = new_data.copy() # copied data for before & after cleaning\n",
    "\n",
    "# Convert year columns (2000-2023) to numeric\n",
    "year_cols = new_data.columns[2:]  # Selects only year columns\n",
    "new_data[year_cols] = new_data[year_cols].apply(pd.to_numeric, errors='coerce')\n",
    "new_data[year_cols] = new_data[year_cols].ffill().bfill()\n",
    "new_data[year_cols] = new_data[year_cols].interpolate(method='linear', axis=1)\n",
    "\n",
    "# # Convert country columns to string (optional, but keeps consistency)\n",
    "new_data[\"Country Name\"] = new_data[\"Country Name\"].astype(str)\n",
    "new_data[\"Country Code\"] = new_data[\"Country Code\"].astype(str)\n",
    "new_data.isna().sum().sum()  # Should return 0 if everything is filled\n"
   ]
  },
  {
   "cell_type": "code",
   "execution_count": 4,
   "metadata": {},
   "outputs": [
    {
     "data": {
      "image/png": "[encoded data removed]",
      "text/plain": [
       "<Figure size 1000x300 with 1 Axes>"
      ]
     },
     "metadata": {},
     "output_type": "display_data"
    },
    {
     "data": {
      "image/png": "[encoded data removed]",
      "text/plain": [
       "<Figure size 1000x300 with 1 Axes>"
      ]
     },
     "metadata": {},
     "output_type": "display_data"
    }
   ],
   "source": [
    "#Before and after filling: Visualization\n",
    "plt.figure(figsize=(10,3))\n",
    "sns.heatmap(original_data.isna(), cbar=False, cmap=\"viridis\", yticklabels=False)\n",
    "plt.title(\"Missing Data Before Filling\")\n",
    "plt.show()\n",
    "\n",
    "plt.figure(figsize=(10,3))\n",
    "sns.heatmap(new_data.isna(), cbar=False, cmap=\"viridis\", yticklabels=False)\n",
    "plt.title(\"Missing Data After Filling\")\n",
    "plt.show()"
   ]
  },
  {
   "cell_type": "markdown",
   "metadata": {},
   "source": [
    "### Tidy Format\n",
    "The dataset is in a wide format, where years are spread across columns. To make our visualization easier, let's convert it into a long format also known as `tidy format`.\n",
    "- Makes it easier to plot trends over time (e.g., line charts).\n",
    "- Easier to group and aggregate data by country & year.\n",
    "- Works better with libraries like `Seaborn` and `Matplotlib`.\n"
   ]
  },
  {
   "cell_type": "code",
   "execution_count": 5,
   "metadata": {},
   "outputs": [
    {
     "name": "stdout",
     "output_type": "stream",
     "text": [
      "<class 'pandas.core.frame.DataFrame'>\n",
      "RangeIndex: 5208 entries, 0 to 5207\n",
      "Data columns (total 4 columns):\n",
      " #   Column          Non-Null Count  Dtype  \n",
      "---  ------          --------------  -----  \n",
      " 0   Country Name    5208 non-null   object \n",
      " 1   Country Code    5208 non-null   object \n",
      " 2   Year            5208 non-null   int64  \n",
      " 3   Internet Users  5208 non-null   float64\n",
      "dtypes: float64(1), int64(1), object(2)\n",
      "memory usage: 162.9+ KB\n"
     ]
    }
   ],
   "source": [
    "#### tidy\n",
    "long_data = new_data.melt(id_vars=['Country Name', \"Country Code\"], var_name=\"Year\", value_name=\"Internet Users\")\n",
    "long_data[\"Year\"] = long_data[\"Year\"].astype(int)\n",
    "# long_data.duplicated().sum() check for duplication\n",
    "long_data.info()"
   ]
  },
  {
   "cell_type": "markdown",
   "metadata": {},
   "source": [
    "### Visualization"
   ]
  },
  {
   "cell_type": "code",
   "execution_count": 6,
   "metadata": {},
   "outputs": [
    {
     "data": {
      "application/vnd.plotly.v1+json": {
       "config": {
        "plotlyServerURL": "https://plot.ly"
       },
       "data": [
        {
         "hovertemplate": "<b>Year:</b> %{x}<br><b>Usage:</b> %{y:.2f}%<extra></extra>",
         "line": {
          "color": "blue",
          "width": 2
         },
         "marker": {
          "color": "blue",
          "size": 6,
          "symbol": "circle"
         },
         "mode": "lines+markers",
         "name": "Global average Internet Usage",
         "type": "scatter",
         "x": [
          "2000",
          "2001",
          "2002",
          "2003",
          "2004",
          "2005",
          "2006",
          "2007",
          "2008",
          "2009",
          "2010",
          "2011",
          "2012",
          "2013",
          "2014",
          "2015",
          "2016",
          "2017",
          "2018",
          "2019",
          "2020",
          "2021",
          "2022",
          "2023"
         ],
         "y": {
          "bdata": "sc6CEshzIUClXg1rVdIlQBMajBhsxitAEWkEON8OMUDjRkRSyFQzQItyckd7+TRApQK/2whSN0BT1eHa26o5QMZkGBPSoDxAR4LzP55QP0CIIrOBXwpBQCL2458GlEJAfrFmWcvTQ0C/3hmQy/1EQBPNDbqJYEZAI2WOLtS6R0ApTcK2AZBJQPPnlZZuDEtAsMk1MOOHTEBI+b40JXpOQBuNY978N1BAfmOOEDwaUUCLgKMLmuFRQPMAuoI/8VVA",
          "dtype": "f8"
         }
        }
       ],
       "layout": {
        "autosize": true,
        "font": {
         "size": 14
        },
        "hovermode": "x unified",
        "template": {
         "data": {
          "bar": [
           {
            "error_x": {
             "color": "#2a3f5f"
            },
            "error_y": {
             "color": "#2a3f5f"
            },
            "marker": {
             "line": {
              "color": "white",
              "width": 0.5
             },
             "pattern": {
              "fillmode": "overlay",
              "size": 10,
              "solidity": 0.2
             }
            },
            "type": "bar"
           }
          ],
          "barpolar": [
           {
            "marker": {
             "line": {
              "color": "white",
              "width": 0.5
             },
             "pattern": {
              "fillmode": "overlay",
              "size": 10,
              "solidity": 0.2
             }
            },
            "type": "barpolar"
           }
          ],
          "carpet": [
           {
            "aaxis": {
             "endlinecolor": "#2a3f5f",
             "gridcolor": "#C8D4E3",
             "linecolor": "#C8D4E3",
             "minorgridcolor": "#C8D4E3",
             "startlinecolor": "#2a3f5f"
            },
            "baxis": {
             "endlinecolor": "#2a3f5f",
             "gridcolor": "#C8D4E3",
             "linecolor": "#C8D4E3",
             "minorgridcolor": "#C8D4E3",
             "startlinecolor": "#2a3f5f"
            },
            "type": "carpet"
           }
          ],
          "choropleth": [
           {
            "colorbar": {
             "outlinewidth": 0,
             "ticks": ""
            },
            "type": "choropleth"
           }
          ],
          "contour": [
           {
            "colorbar": {
             "outlinewidth": 0,
             "ticks": ""
            },
            "colorscale": [
             [
              0,
              "#0d0887"
             ],
             [
              0.1111111111111111,
              "#46039f"
             ],
             [
              0.2222222222222222,
              "#7201a8"
             ],
             [
              0.3333333333333333,
              "#9c179e"
             ],
             [
              0.4444444444444444,
              "#bd3786"
             ],
             [
              0.5555555555555556,
              "#d8576b"
             ],
             [
              0.6666666666666666,
              "#ed7953"
             ],
             [
              0.7777777777777778,
              "#fb9f3a"
             ],
             [
              0.8888888888888888,
              "#fdca26"
             ],
             [
              1,
              "#f0f921"
             ]
            ],
            "type": "contour"
           }
          ],
          "contourcarpet": [
           {
            "colorbar": {
             "outlinewidth": 0,
             "ticks": ""
            },
            "type": "contourcarpet"
           }
          ],
          "heatmap": [
           {
            "colorbar": {
             "outlinewidth": 0,
             "ticks": ""
            },
            "colorscale": [
             [
              0,
              "#0d0887"
             ],
             [
              0.1111111111111111,
              "#46039f"
             ],
             [
              0.2222222222222222,
              "#7201a8"
             ],
             [
              0.3333333333333333,
              "#9c179e"
             ],
             [
              0.4444444444444444,
              "#bd3786"
             ],
             [
              0.5555555555555556,
              "#d8576b"
             ],
             [
              0.6666666666666666,
              "#ed7953"
             ],
             [
              0.7777777777777778,
              "#fb9f3a"
             ],
             [
              0.8888888888888888,
              "#fdca26"
             ],
             [
              1,
              "#f0f921"
             ]
            ],
            "type": "heatmap"
           }
          ],
          "histogram": [
           {
            "marker": {
             "pattern": {
              "fillmode": "overlay",
              "size": 10,
              "solidity": 0.2
             }
            },
            "type": "histogram"
           }
          ],
          "histogram2d": [
           {
            "colorbar": {
             "outlinewidth": 0,
             "ticks": ""
            },
            "colorscale": [
             [
              0,
              "#0d0887"
             ],
             [
              0.1111111111111111,
              "#46039f"
             ],
             [
              0.2222222222222222,
              "#7201a8"
             ],
             [
              0.3333333333333333,
              "#9c179e"
             ],
             [
              0.4444444444444444,
              "#bd3786"
             ],
             [
              0.5555555555555556,
              "#d8576b"
             ],
             [
              0.6666666666666666,
              "#ed7953"
             ],
             [
              0.7777777777777778,
              "#fb9f3a"
             ],
             [
              0.8888888888888888,
              "#fdca26"
             ],
             [
              1,
              "#f0f921"
             ]
            ],
            "type": "histogram2d"
           }
          ],
          "histogram2dcontour": [
           {
            "colorbar": {
             "outlinewidth": 0,
             "ticks": ""
            },
            "colorscale": [
             [
              0,
              "#0d0887"
             ],
             [
              0.1111111111111111,
              "#46039f"
             ],
             [
              0.2222222222222222,
              "#7201a8"
             ],
             [
              0.3333333333333333,
              "#9c179e"
             ],
             [
              0.4444444444444444,
              "#bd3786"
             ],
             [
              0.5555555555555556,
              "#d8576b"
             ],
             [
              0.6666666666666666,
              "#ed7953"
             ],
             [
              0.7777777777777778,
              "#fb9f3a"
             ],
             [
              0.8888888888888888,
              "#fdca26"
             ],
             [
              1,
              "#f0f921"
             ]
            ],
            "type": "histogram2dcontour"
           }
          ],
          "mesh3d": [
           {
            "colorbar": {
             "outlinewidth": 0,
             "ticks": ""
            },
            "type": "mesh3d"
           }
          ],
          "parcoords": [
           {
            "line": {
             "colorbar": {
              "outlinewidth": 0,
              "ticks": ""
             }
            },
            "type": "parcoords"
           }
          ],
          "pie": [
           {
            "automargin": true,
            "type": "pie"
           }
          ],
          "scatter": [
           {
            "fillpattern": {
             "fillmode": "overlay",
             "size": 10,
             "solidity": 0.2
            },
            "type": "scatter"
           }
          ],
          "scatter3d": [
           {
            "line": {
             "colorbar": {
              "outlinewidth": 0,
              "ticks": ""
             }
            },
            "marker": {
             "colorbar": {
              "outlinewidth": 0,
              "ticks": ""
             }
            },
            "type": "scatter3d"
           }
          ],
          "scattercarpet": [
           {
            "marker": {
             "colorbar": {
              "outlinewidth": 0,
              "ticks": ""
             }
            },
            "type": "scattercarpet"
           }
          ],
          "scattergeo": [
           {
            "marker": {
             "colorbar": {
              "outlinewidth": 0,
              "ticks": ""
             }
            },
            "type": "scattergeo"
           }
          ],
          "scattergl": [
           {
            "marker": {
             "colorbar": {
              "outlinewidth": 0,
              "ticks": ""
             }
            },
            "type": "scattergl"
           }
          ],
          "scattermap": [
           {
            "marker": {
             "colorbar": {
              "outlinewidth": 0,
              "ticks": ""
             }
            },
            "type": "scattermap"
           }
          ],
          "scattermapbox": [
           {
            "marker": {
             "colorbar": {
              "outlinewidth": 0,
              "ticks": ""
             }
            },
            "type": "scattermapbox"
           }
          ],
          "scatterpolar": [
           {
            "marker": {
             "colorbar": {
              "outlinewidth": 0,
              "ticks": ""
             }
            },
            "type": "scatterpolar"
           }
          ],
          "scatterpolargl": [
           {
            "marker": {
             "colorbar": {
              "outlinewidth": 0,
              "ticks": ""
             }
            },
            "type": "scatterpolargl"
           }
          ],
          "scatterternary": [
           {
            "marker": {
             "colorbar": {
              "outlinewidth": 0,
              "ticks": ""
             }
            },
            "type": "scatterternary"
           }
          ],
          "surface": [
           {
            "colorbar": {
             "outlinewidth": 0,
             "ticks": ""
            },
            "colorscale": [
             [
              0,
              "#0d0887"
             ],
             [
              0.1111111111111111,
              "#46039f"
             ],
             [
              0.2222222222222222,
              "#7201a8"
             ],
             [
              0.3333333333333333,
              "#9c179e"
             ],
             [
              0.4444444444444444,
              "#bd3786"
             ],
             [
              0.5555555555555556,
              "#d8576b"
             ],
             [
              0.6666666666666666,
              "#ed7953"
             ],
             [
              0.7777777777777778,
              "#fb9f3a"
             ],
             [
              0.8888888888888888,
              "#fdca26"
             ],
             [
              1,
              "#f0f921"
             ]
            ],
            "type": "surface"
           }
          ],
          "table": [
           {
            "cells": {
             "fill": {
              "color": "#EBF0F8"
             },
             "line": {
              "color": "white"
             }
            },
            "header": {
             "fill": {
              "color": "#C8D4E3"
             },
             "line": {
              "color": "white"
             }
            },
            "type": "table"
           }
          ]
         },
         "layout": {
          "annotationdefaults": {
           "arrowcolor": "#2a3f5f",
           "arrowhead": 0,
           "arrowwidth": 1
          },
          "autotypenumbers": "strict",
          "coloraxis": {
           "colorbar": {
            "outlinewidth": 0,
            "ticks": ""
           }
          },
          "colorscale": {
           "diverging": [
            [
             0,
             "#8e0152"
            ],
            [
             0.1,
             "#c51b7d"
            ],
            [
             0.2,
             "#de77ae"
            ],
            [
             0.3,
             "#f1b6da"
            ],
            [
             0.4,
             "#fde0ef"
            ],
            [
             0.5,
             "#f7f7f7"
            ],
            [
             0.6,
             "#e6f5d0"
            ],
            [
             0.7,
             "#b8e186"
            ],
            [
             0.8,
             "#7fbc41"
            ],
            [
             0.9,
             "#4d9221"
            ],
            [
             1,
             "#276419"
            ]
           ],
           "sequential": [
            [
             0,
             "#0d0887"
            ],
            [
             0.1111111111111111,
             "#46039f"
            ],
            [
             0.2222222222222222,
             "#7201a8"
            ],
            [
             0.3333333333333333,
             "#9c179e"
            ],
            [
             0.4444444444444444,
             "#bd3786"
            ],
            [
             0.5555555555555556,
             "#d8576b"
            ],
            [
             0.6666666666666666,
             "#ed7953"
            ],
            [
             0.7777777777777778,
             "#fb9f3a"
            ],
            [
             0.8888888888888888,
             "#fdca26"
            ],
            [
             1,
             "#f0f921"
            ]
           ],
           "sequentialminus": [
            [
             0,
             "#0d0887"
            ],
            [
             0.1111111111111111,
             "#46039f"
            ],
            [
             0.2222222222222222,
             "#7201a8"
            ],
            [
             0.3333333333333333,
             "#9c179e"
            ],
            [
             0.4444444444444444,
             "#bd3786"
            ],
            [
             0.5555555555555556,
             "#d8576b"
            ],
            [
             0.6666666666666666,
             "#ed7953"
            ],
            [
             0.7777777777777778,
             "#fb9f3a"
            ],
            [
             0.8888888888888888,
             "#fdca26"
            ],
            [
             1,
             "#f0f921"
            ]
           ]
          },
          "colorway": [
           "#636efa",
           "#EF553B",
           "#00cc96",
           "#ab63fa",
           "#FFA15A",
           "#19d3f3",
           "#FF6692",
           "#B6E880",
           "#FF97FF",
           "#FECB52"
          ],
          "font": {
           "color": "#2a3f5f"
          },
          "geo": {
           "bgcolor": "white",
           "lakecolor": "white",
           "landcolor": "white",
           "showlakes": true,
           "showland": true,
           "subunitcolor": "#C8D4E3"
          },
          "hoverlabel": {
           "align": "left"
          },
          "hovermode": "closest",
          "mapbox": {
           "style": "light"
          },
          "paper_bgcolor": "white",
          "plot_bgcolor": "white",
          "polar": {
           "angularaxis": {
            "gridcolor": "#EBF0F8",
            "linecolor": "#EBF0F8",
            "ticks": ""
           },
           "bgcolor": "white",
           "radialaxis": {
            "gridcolor": "#EBF0F8",
            "linecolor": "#EBF0F8",
            "ticks": ""
           }
          },
          "scene": {
           "xaxis": {
            "backgroundcolor": "white",
            "gridcolor": "#DFE8F3",
            "gridwidth": 2,
            "linecolor": "#EBF0F8",
            "showbackground": true,
            "ticks": "",
            "zerolinecolor": "#EBF0F8"
           },
           "yaxis": {
            "backgroundcolor": "white",
            "gridcolor": "#DFE8F3",
            "gridwidth": 2,
            "linecolor": "#EBF0F8",
            "showbackground": true,
            "ticks": "",
            "zerolinecolor": "#EBF0F8"
           },
           "zaxis": {
            "backgroundcolor": "white",
            "gridcolor": "#DFE8F3",
            "gridwidth": 2,
            "linecolor": "#EBF0F8",
            "showbackground": true,
            "ticks": "",
            "zerolinecolor": "#EBF0F8"
           }
          },
          "shapedefaults": {
           "line": {
            "color": "#2a3f5f"
           }
          },
          "ternary": {
           "aaxis": {
            "gridcolor": "#DFE8F3",
            "linecolor": "#A2B1C6",
            "ticks": ""
           },
           "baxis": {
            "gridcolor": "#DFE8F3",
            "linecolor": "#A2B1C6",
            "ticks": ""
           },
           "bgcolor": "white",
           "caxis": {
            "gridcolor": "#DFE8F3",
            "linecolor": "#A2B1C6",
            "ticks": ""
           }
          },
          "title": {
           "x": 0.05
          },
          "xaxis": {
           "automargin": true,
           "gridcolor": "#EBF0F8",
           "linecolor": "#EBF0F8",
           "ticks": "",
           "title": {
            "standoff": 15
           },
           "zerolinecolor": "#EBF0F8",
           "zerolinewidth": 2
          },
          "yaxis": {
           "automargin": true,
           "gridcolor": "#EBF0F8",
           "linecolor": "#EBF0F8",
           "ticks": "",
           "title": {
            "standoff": 15
           },
           "zerolinecolor": "#EBF0F8",
           "zerolinewidth": 2
          }
         }
        },
        "title": {
         "text": "Global Internet Usage Trend (2000–2023)"
        },
        "xaxis": {
         "tickangle": 45,
         "tickmode": "linear",
         "title": {
          "text": "Year"
         },
         "type": "linear"
        },
        "yaxis": {
         "gridcolor": "lightgrey",
         "showgrid": true,
         "title": {
          "text": "Average Internet Usage (%)"
         }
        }
       }
      }
     },
     "metadata": {},
     "output_type": "display_data"
    }
   ],
   "source": [
    "# Global: average internet usage per year\n",
    "global_trend = new_data[year_cols].mean()\n",
    "global_trend.index = global_trend.index.astype(int)\n",
    "\n",
    "# Create the figure\n",
    "fig = go.Figure()\n",
    "\n",
    "# interactive line plot\n",
    "fig.add_trace(go.Scatter(\n",
    "    x = year_cols,\n",
    "    y = global_trend,\n",
    "    mode = \"lines+markers\",\n",
    "    line=dict(color=\"blue\", width=2),\n",
    "    # fill='tozeroy',\n",
    "    marker = dict(size=6, symbol=\"circle\", color=\"blue\"),  # Corrected line\n",
    "    name = \"Global average Internet Usage\",\n",
    "    hovertemplate=\"<b>Year:</b> %{x}<br><b>Usage:</b> %{y:.2f}%<extra></extra>\"\n",
    "))\n",
    "\n",
    "# Customize layout\n",
    "fig.update_layout(\n",
    "    title=\"Global Internet Usage Trend (2000–2023)\",\n",
    "    xaxis_title=\"Year\",\n",
    "    yaxis_title=\"Average Internet Usage (%)\",\n",
    "    template=\"plotly_white\",\n",
    "    font=dict(size=14),\n",
    "    xaxis=dict(tickmode='linear', tickangle=45),\n",
    "    yaxis=dict(showgrid=True, gridcolor='lightgrey'),\n",
    "    hovermode='x unified',\n",
    "    autosize=True,  # This enables dynamic resizing\n",
    ")\n",
    "\n",
    "fig.update_xaxes(type=\"linear\")\n",
    "\n",
    "# Show the figure\n",
    "fig.show()"
   ]
  }
 ],
 "metadata": {
  "kernelspec": {
   "display_name": "venv",
   "language": "python",
   "name": "python3"
  },
  "language_info": {
   "codemirror_mode": {
    "name": "ipython",
    "version": 3
   },
   "file_extension": ".py",
   "mimetype": "text/x-python",
   "name": "python",
   "nbconvert_exporter": "python",
   "pygments_lexer": "ipython3",
   "version": "3.10.2"
  }
 },
 "nbformat": 4,
 "nbformat_minor": 2
}
