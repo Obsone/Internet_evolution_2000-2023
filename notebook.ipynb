{
 "cells": [
  {
   "cell_type": "markdown",
   "metadata": {},
   "source": [
    "# How the World Got Online: Internet Usage Evolution (2000-2023)\n",
    "\n",
    "**_The Rise of Internet Adoption: Trends Across Countries_**"
   ]
  }
 ],
 "metadata": {
  "language_info": {
   "name": "python"
  }
 },
 "nbformat": 4,
 "nbformat_minor": 2
}
